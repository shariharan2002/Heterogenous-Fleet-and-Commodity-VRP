{
 "cells": [
  {
   "cell_type": "code",
   "execution_count": 19,
   "metadata": {},
   "outputs": [],
   "source": [
    "vehicle_content=0\n",
    "with open(r\"C:\\Users\\Acer Pc\\Desktop\\VRP OpperHeimer\\OpperHeimer Code\\OpperHeimer Code\\Data\\vessel.txt\") as f:\n",
    "    vehicle_content=f.read()\n",
    "vehicle_content=vehicle_content.split(\"\\n\")\n",
    "if vehicle_content[-1] =='' or vehicle_content[-1] =='\\n':\n",
    "    vehicle_content=vehicle_content[:-1]\n",
    "vehicle_dict={}\n",
    "for item in vehicle_content:\n",
    "    item=item.split(\":\")\n",
    "    vehicle_cap=int(item[1].split(\",\")[0].split(\"(\")[1].strip())\n",
    "    vehicle_cost=int(item[1].split(\",\")[1].split(\")\")[0].strip())\n",
    "    vehicle_dict[item[0].strip()]=[vehicle_cap,vehicle_cost]\n",
    "    "
   ]
  },
  {
   "cell_type": "code",
   "execution_count": 45,
   "metadata": {},
   "outputs": [],
   "source": [
    "capacity_content=0\n",
    "with open(r\"C:\\Users\\Acer Pc\\Desktop\\VRP OpperHeimer\\OpperHeimer Code\\OpperHeimer Code\\Data\\capacity.txt\") as f:\n",
    "    capacity_content=f.read()\n",
    "capacity_content=capacity_content.split(\"\\n\")\n",
    "\n",
    "if capacity_content[-1]==\" \" or capacity_content[-1]==\"\\n\":\n",
    "    capacity_content=capacity_content[:-1]\n",
    "\n",
    "capacity_dict={}\n",
    "for item in capacity_content:\n",
    "    item=item.split(\":\")\n",
    "    depot_id=item[0].split(\",\")[0].split(\"(\")[1].strip()\n",
    "    product_id=item[0].split(\",\")[1].split(\")\")[0].strip()\n",
    "    depot_cap=int(item[1].strip())\n",
    "    capacity_dict[(depot_id,product_id)]=depot_cap\n"
   ]
  },
  {
   "cell_type": "code",
   "execution_count": 55,
   "metadata": {},
   "outputs": [],
   "source": [
    "time_content=0\n",
    "with open(r\"C:\\Users\\Acer Pc\\Desktop\\VRP OpperHeimer\\OpperHeimer Code\\OpperHeimer Code\\Data\\time.txt\") as f:\n",
    "    time_content=f.read()\n",
    "time_content=time_content.split(\"\\n\")\n",
    "\n",
    "if time_content[-1]==\" \" or time_content[-1]==\"\\n\":\n",
    "    time_content=time_content[:-1]\n",
    "mapper={0:'A',1:'B',2:'C',3:'D',4:'E',5:'F',6:'G'}\n",
    "time_dict={}\n",
    "for item in time_content:\n",
    "    item=item.split(\":\")\n",
    "    source_depot=int(item[0].split(\",\")[0].split(\"(\")[1].strip())\n",
    "    destination_depot=int(item[0].split(\",\")[1].split(\")\")[0].strip())\n",
    "    time_to_travel=int(item[1].strip())\n",
    "    time_dict[(mapper[source_depot],mapper[destination_depot])]=time_to_travel\n",
    "    time_dict[(mapper[destination_depot],mapper[source_depot])]=time_to_travel"
   ]
  },
  {
   "cell_type": "code",
   "execution_count": 50,
   "metadata": {},
   "outputs": [],
   "source": [
    "demand_content=0\n",
    "with open(r\"C:\\Users\\Acer Pc\\Desktop\\VRP OpperHeimer\\OpperHeimer Code\\OpperHeimer Code\\Data\\demand.txt\") as f:\n",
    "    demand_content=f.read()\n",
    "demand_content=demand_content.split(\"\\n\")\n",
    "\n",
    "if demand_content[-1]==\" \" or demand_content[-1]==\"\\n\":\n",
    "    demand_content=demand_content[:-1]\n",
    "\n",
    "demand_dict={}\n",
    "for item in demand_content:\n",
    "    item=item.split(\":\")\n",
    "    depot_id=item[0].split(\",\")[0].split(\"(\")[1].strip()\n",
    "    product_id=item[0].split(\",\")[1].split(\")\")[0].strip()\n",
    "    demand_for_product=int(item[1].strip())\n",
    "    demand_dict[(depot_id,product_id)]=demand_for_product\n"
   ]
  },
  {
   "cell_type": "code",
   "execution_count": 51,
   "metadata": {},
   "outputs": [
    {
     "data": {
      "text/plain": [
       "{('C', 'P1'): 5000,\n",
       " ('C', 'P2'): 2000,\n",
       " ('C', 'P3'): 4000,\n",
       " ('C', 'P4'): 400,\n",
       " ('D', 'P1'): 400,\n",
       " ('D', 'P2'): 800,\n",
       " ('D', 'P3'): 8000,\n",
       " ('D', 'P4'): 300,\n",
       " ('E', 'P1'): 2000,\n",
       " ('E', 'P2'): 6000,\n",
       " ('E', 'P3'): 100,\n",
       " ('E', 'P4'): 400,\n",
       " ('F', 'P1'): 5000,\n",
       " ('F', 'P2'): 3200,\n",
       " ('F', 'P3'): 18000,\n",
       " ('F', 'P4'): 1000,\n",
       " ('G', 'P1'): 2000,\n",
       " ('G', 'P2'): 1000,\n",
       " ('G', 'P3'): 15000,\n",
       " ('G', 'P4'): 4000}"
      ]
     },
     "execution_count": 51,
     "metadata": {},
     "output_type": "execute_result"
    }
   ],
   "source": [
    "demand_dict"
   ]
  },
  {
   "cell_type": "code",
   "execution_count": null,
   "metadata": {},
   "outputs": [],
   "source": []
  }
 ],
 "metadata": {
  "kernelspec": {
   "display_name": "envname",
   "language": "python",
   "name": "envname"
  },
  "language_info": {
   "codemirror_mode": {
    "name": "ipython",
    "version": 3
   },
   "file_extension": ".py",
   "mimetype": "text/x-python",
   "name": "python",
   "nbconvert_exporter": "python",
   "pygments_lexer": "ipython3",
   "version": "3.10.12"
  },
  "orig_nbformat": 4
 },
 "nbformat": 4,
 "nbformat_minor": 2
}
